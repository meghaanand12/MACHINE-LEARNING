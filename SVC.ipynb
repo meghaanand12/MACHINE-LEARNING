{
 "cells": [
  {
   "cell_type": "code",
   "execution_count": 3,
   "metadata": {},
   "outputs": [
    {
     "name": "stdout",
     "output_type": "stream",
     "text": [
      "[0]\n",
      "actual op\n"
     ]
    },
    {
     "data": {
      "image/png": "[encoded data removed]",
      "text/plain": [
       "<Figure size 432x288 with 1 Axes>"
      ]
     },
     "metadata": {},
     "output_type": "display_data"
    }
   ],
   "source": [
    "from sklearn.datasets import load_digits #library in which images of digits is stored.\n",
    "import numpy as np   #it is used to delete test data from original data by using delete function\n",
    "from sklearn.svm import SVC\n",
    "digits=load_digits()\n",
    "\n",
    "#dir(digits)\n",
    "'''\n",
    "['DESCR', 'data', 'images', 'target', 'target_names']\n",
    "\n",
    "\n",
    "data contains all 1797 images in 8x8 array .(1797,64)   details about every image.\n",
    "target contains all 1797 targets images......(1797,)\n",
    "target_names contains----[0,1,2,3,4,5,6,7,8,9]\n",
    "'''\n",
    "\n",
    "#splitting data into training data and testing data\n",
    "\n",
    "#training data split\n",
    "trained_data=np.delete(digits.data,-1,axis=0)\n",
    "#training target split\n",
    "trained_target=np.delete(digits.target,-1)\n",
    "\n",
    "#calling algo\n",
    "\n",
    "clf=SVC()\n",
    "trained=clf.fit(trained_data,trained_target)\n",
    "output=trained.predict(digits.data[-4].reshape(1,64))\n",
    "print(output) #prints op of given test_data which is last image of digit.data as this is only splitted for teesting\n",
    "\n",
    "print (\"actual op\")\n",
    " \n",
    "import matplotlib.pyplot as plt\n",
    "\n",
    "plt.imshow(digits.images[-4])\n",
    "plt.show()"
   ]
  },
  {
   "cell_type": "code",
   "execution_count": null,
   "metadata": {},
   "outputs": [],
   "source": []
  },
  {
   "cell_type": "code",
   "execution_count": null,
   "metadata": {},
   "outputs": [],
   "source": []
  }
 ],
 "metadata": {
  "kernelspec": {
   "display_name": "Python 3",
   "language": "python",
   "name": "python3"
  },
  "language_info": {
   "codemirror_mode": {
    "name": "ipython",
    "version": 3
   },
   "file_extension": ".py",
   "mimetype": "text/x-python",
   "name": "python",
   "nbconvert_exporter": "python",
   "pygments_lexer": "ipython3",
   "version": "3.5.2"
  }
 },
 "nbformat": 4,
 "nbformat_minor": 2
}
