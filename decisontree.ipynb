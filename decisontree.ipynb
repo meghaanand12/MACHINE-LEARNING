{
 "cells": [
  {
   "cell_type": "code",
   "execution_count": 5,
   "metadata": {},
   "outputs": [
    {
     "name": "stdout",
     "output_type": "stream",
     "text": [
      "*********DECISION TREE CLASSIFIER************\n",
      "enter test size=.1\n",
      "l1... [0.1]\n",
      "[0 2 1 2 2 2 2 0 0 0 1 0 1 0 1]\n",
      "actual op\n",
      "[0 2 2 2 2 2 2 0 0 0 1 0 1 0 1]\n",
      "0.9333333333333333\n",
      "l2 [0.9333333333333333]\n",
      "enter test size=.2\n",
      "l1... [0.1, 0.2]\n",
      "[0 2 1 1 0 0 2 1 0 0 0 0 2 2 0 2 2 1 1 0 0 2 2 0 1 1 0 0 2 0]\n",
      "actual op\n",
      "[0 2 1 1 0 0 1 1 0 0 0 0 2 2 0 2 2 1 1 0 0 2 2 0 1 1 0 0 2 0]\n",
      "0.9666666666666667\n",
      "l2 [0.9333333333333333, 0.9666666666666667]\n",
      "enter test size=.1\n",
      "l1... [0.1, 0.2, 0.1]\n",
      "[2 2 0 0 2 1 0 2 0 0 1 1 0 1 1]\n",
      "actual op\n",
      "[2 2 0 0 2 1 0 2 0 0 1 2 0 2 1]\n",
      "0.8666666666666667\n",
      "l2 [0.9333333333333333, 0.9666666666666667, 0.8666666666666667]\n",
      "enter test size=.2\n",
      "l1... [0.1, 0.2, 0.1, 0.2]\n",
      "[1 2 1 2 1 0 0 1 2 0 2 0 0 2 0 2 1 0 2 1 2 2 2 2 0 0 0 0 0 1]\n",
      "actual op\n",
      "[2 2 1 2 1 0 0 1 2 0 1 0 0 2 0 2 1 0 2 1 2 2 2 2 0 0 0 0 0 2]\n",
      "0.9\n",
      "l2 [0.9333333333333333, 0.9666666666666667, 0.8666666666666667, 0.9]\n"
     ]
    },
    {
     "data": {
      "image/png": "[encoded data removed]",
      "text/plain": [
       "<Figure size 432x288 with 1 Axes>"
      ]
     },
     "metadata": {},
     "output_type": "display_data"
    }
   ],
   "source": [
    "from sklearn.datasets import load_iris\n",
    "from sklearn import tree\n",
    "#lib. used to split data into testing and training dataset\n",
    "from sklearn.model_selection import train_test_split\n",
    "#this is used to calculate % between actual op.and given op.\n",
    "from sklearn.metrics import accuracy_score\n",
    "#library used to plot graph\n",
    "import matplotlib.pyplot as plt\n",
    "\n",
    "print(\"*********DECISION TREE CLASSIFIER************\")\n",
    "iris=load_iris()\n",
    "l1=[]\n",
    "l2=[]\n",
    "#p is test size\n",
    "for i in range(1,5):\n",
    "    p=float(input(\"enter test size=\"))\n",
    "#l1 is the list which store all test_sizes entered by user\n",
    "    l1.append(p)\n",
    "    print('l1...',l1)\n",
    "#spliting data\n",
    "#iris data gives features data\n",
    "#iris target  gives data related to target op. ie. which flower it is.\n",
    "#0.05 means 5% data is splitted for testing\n",
    "    x,y,z,a= train_test_split(iris.data,iris.target,test_size=p)\n",
    "    \"\"\"\n",
    "    x= train data_features\n",
    "    y=test_data_features(data to be tested)\n",
    "    z is the train target\n",
    "    a is the test target\n",
    "    \"\"\"\n",
    "#calling decision tree classifier\n",
    "\n",
    "    dsclf=tree.DecisionTreeClassifier()\n",
    "    trained=dsclf.fit(x,z)\n",
    "    output=trained.predict(y)\n",
    "    print(output)\n",
    "    print(\"actual op\")\n",
    "    print(a)\n",
    "    pct=accuracy_score(output,a)\n",
    "    print(pct)\n",
    "\n",
    "\n",
    "#l2 which store accuracy score\n",
    "    l2.append(pct)\n",
    "    print('l2',l2)\n",
    "#plotting graph between testsizes and accuracy score.\n",
    "plt.xlabel(\"test_sizes\")#name to x axis\n",
    "plt.ylabel(\"accuracy_score\")#used to give name to y axis\n",
    "plt.scatter(l1,l2)\n",
    "plt.grid(color='y')\n",
    "plt.show()\n",
    "\n",
    "#decision tree of given data\n",
    "tree.export_graphviz(dsclf,out_file=\"decision_tree.dot\",max_depth=6,feature_names=iris.feature_names,class_names=iris.target_names,label='all',filled=True,node_ids=True,rounded=True)\n",
    "\n",
    "\n"
   ]
  },
  {
   "cell_type": "markdown",
   "metadata": {},
   "source": []
  }
 ],
 "metadata": {
  "kernelspec": {
   "display_name": "Python 3",
   "language": "python",
   "name": "python3"
  },
  "language_info": {
   "codemirror_mode": {
    "name": "ipython",
    "version": 3
   },
   "file_extension": ".py",
   "mimetype": "text/x-python",
   "name": "python",
   "nbconvert_exporter": "python",
   "pygments_lexer": "ipython3",
   "version": "3.5.2"
  }
 },
 "nbformat": 4,
 "nbformat_minor": 2
}
