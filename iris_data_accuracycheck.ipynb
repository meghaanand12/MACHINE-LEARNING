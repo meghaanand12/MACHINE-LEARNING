{
 "cells": [
  {
   "cell_type": "code",
   "execution_count": 10,
   "metadata": {},
   "outputs": [
    {
     "name": "stdout",
     "output_type": "stream",
     "text": [
      "[2 0 2 0 1 1 2 2 2 2 2 1 2 2 2]\n",
      "0.8666666666666667\n"
     ]
    }
   ],
   "source": [
    "from sklearn.datasets import load_iris\n",
    "#loading iris_datasets\n",
    "iris=load_iris()\n",
    "#training flowers feature is stored in\n",
    "iris.data\n",
    "\n",
    "#output accordingly is stored in\n",
    "iris.target\n",
    "\n",
    "#now splitting into test and train dataset\n",
    "from sklearn.model_selection import train_test_split\n",
    "x,y,z,a=train_test_split(iris.data,iris.target,test_size=0.1)\n",
    "\"\"\"here\n",
    "x is train_iris {all feature value containing 90%}\n",
    "y is the remaining test_iris{10% of features}\n",
    "z is the train_target{all data containing 90% of iris_target\n",
    "a is the test_target{remaining 10% of iris target}\n",
    "\"\"\"\n",
    "#calling decision tree classifier\n",
    "from sklearn import tree\n",
    "dsclf=tree.DecisionTreeClassifier()\n",
    "#now training data with decision\n",
    "trained = dsclf.fit(x,z)\n",
    "#now time for prediction\n",
    "output=trained.predict(y)\n",
    "print(output)\n",
    "#checking % of accuracy\n",
    "from sklearn.metrics import accuracy_score\n",
    "check_pct=accuracy_score(a,output)\n",
    "print(check_pct)"
   ]
  },
  {
   "cell_type": "code",
   "execution_count": null,
   "metadata": {},
   "outputs": [],
   "source": []
  },
  {
   "cell_type": "code",
   "execution_count": null,
   "metadata": {},
   "outputs": [],
   "source": []
  },
  {
   "cell_type": "code",
   "execution_count": null,
   "metadata": {},
   "outputs": [],
   "source": []
  },
  {
   "cell_type": "code",
   "execution_count": null,
   "metadata": {},
   "outputs": [],
   "source": []
  },
  {
   "cell_type": "code",
   "execution_count": null,
   "metadata": {},
   "outputs": [],
   "source": []
  },
  {
   "cell_type": "code",
   "execution_count": null,
   "metadata": {},
   "outputs": [],
   "source": []
  },
  {
   "cell_type": "code",
   "execution_count": null,
   "metadata": {},
   "outputs": [],
   "source": []
  }
 ],
 "metadata": {
  "kernelspec": {
   "display_name": "Python 3",
   "language": "python",
   "name": "python3"
  },
  "language_info": {
   "codemirror_mode": {
    "name": "ipython",
    "version": 3
   },
   "file_extension": ".py",
   "mimetype": "text/x-python",
   "name": "python",
   "nbconvert_exporter": "python",
   "pygments_lexer": "ipython3",
   "version": "3.5.2"
  }
 },
 "nbformat": 4,
 "nbformat_minor": 2
}
